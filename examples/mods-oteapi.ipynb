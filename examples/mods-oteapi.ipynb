{
 "cells": [
  {
   "cell_type": "markdown",
   "metadata": {},
   "source": [
    "# MoDS and OTEAPI-tutorial"
   ]
  },
  {
   "cell_type": "markdown",
   "metadata": {},
   "source": [
    "> **NOTE**: For this tutorial, we assume that you started the `docker-compose.yml`-file in the top-level directory of this repository. \n",
    ">\n",
    "> Before doing so, you will also need to specify some environmental variables in this case. Make a copy of the `.env.template` with:\n",
    ">\n",
    "> ```\n",
    "> cp .env.template .env\n",
    "> ```\n",
    ">\n",
    "> Please generate an access token for Gitlab with the  `read_api` scope and put it under the following variable: \n",
    ">\n",
    "> `GITLAB_ACCESS_TOKEN=<your-token>`\n",
    ">\n",
    ">\n",
    "> Login into the docker registry of the Fraunhofer Gitlab (might need another access token with the scope `read_registry`):\n",
    ">\n",
    "> `docker login registry.gitlab.cc-asp.fraunhofer.de/ontotrans`\n",
    ">\n",
    "> And then bring up the container with:\n",
    ">\n",
    "> `docker-compose up -d`\n",
    ">\n",
    "> Then connect this notebook to the `ipkernel` of the `oteapi`-container in order to run the example\n",
    "> "
   ]
  },
  {
   "cell_type": "markdown",
   "metadata": {},
   "source": [
    "Now, install python-dotenv in order to read the access token and the needed plugins for the oteapi:"
   ]
  },
  {
   "cell_type": "code",
   "execution_count": 1,
   "metadata": {
    "tags": [],
    "vscode": {
     "languageId": "python"
    }
   },
   "outputs": [
    {
     "name": "stdout",
     "output_type": "stream",
     "text": [
      "Collecting otelib==0.2.0\n",
      "  Downloading otelib-0.2.0-py3-none-any.whl (18 kB)\n",
      "Collecting oteapi-core<1,>=0.1.2 (from otelib==0.2.0)\n",
      "  Downloading oteapi_core-0.4.1-py3-none-any.whl (55 kB)\n",
      "\u001b[2K     \u001b[90m━━━━━━━━━━━━━━━━━━━━━━━━━━━━━━━━━━━━━━━━\u001b[0m \u001b[32m55.3/55.3 kB\u001b[0m \u001b[31m5.6 MB/s\u001b[0m eta \u001b[36m0:00:00\u001b[0m\n",
      "\u001b[?25hCollecting agraph-python<102,>=101.0.7 (from oteapi-core<1,>=0.1.2->otelib==0.2.0)\n",
      "  Downloading agraph_python-101.0.11-py2.py3-none-any.whl (182 kB)\n",
      "\u001b[2K     \u001b[90m━━━━━━━━━━━━━━━━━━━━━━━━━━━━━━━━━━━━━━\u001b[0m \u001b[32m182.8/182.8 kB\u001b[0m \u001b[31m10.5 MB/s\u001b[0m eta \u001b[36m0:00:00\u001b[0m\n",
      "\u001b[?25hCollecting celery<6,>=5.2.3 (from oteapi-core<1,>=0.1.2->otelib==0.2.0)\n",
      "  Downloading celery-5.2.7-py3-none-any.whl (405 kB)\n",
      "\u001b[2K     \u001b[90m━━━━━━━━━━━━━━━━━━━━━━━━━━━━━━━━━━━━━━\u001b[0m \u001b[32m405.6/405.6 kB\u001b[0m \u001b[31m10.7 MB/s\u001b[0m eta \u001b[36m0:00:00\u001b[0m00:01\u001b[0m\n",
      "\u001b[?25hCollecting diskcache<6,>=5.4.0 (from oteapi-core<1,>=0.1.2->otelib==0.2.0)\n",
      "  Downloading diskcache-5.6.1-py3-none-any.whl (45 kB)\n",
      "\u001b[2K     \u001b[90m━━━━━━━━━━━━━━━━━━━━━━━━━━━━━━━━━━━━━━━━\u001b[0m \u001b[32m45.6/45.6 kB\u001b[0m \u001b[31m7.1 MB/s\u001b[0m eta \u001b[36m0:00:00\u001b[0m\n",
      "\u001b[?25hCollecting fastapi-plugins~=0.11.0 (from oteapi-core<1,>=0.1.2->otelib==0.2.0)\n",
      "  Downloading fastapi_plugins-0.11.0-py3-none-any.whl (23 kB)\n",
      "Collecting numpy<2,>=1.21 (from oteapi-core<1,>=0.1.2->otelib==0.2.0)\n",
      "  Downloading numpy-1.24.3-cp310-cp310-manylinux_2_17_x86_64.manylinux2014_x86_64.whl (17.3 MB)\n",
      "\u001b[2K     \u001b[90m━━━━━━━━━━━━━━━━━━━━━━━━━━━━━━━━━━━━━━━━\u001b[0m \u001b[32m17.3/17.3 MB\u001b[0m \u001b[31m10.9 MB/s\u001b[0m eta \u001b[36m0:00:00\u001b[0m00:01\u001b[0m00:01\u001b[0m\n",
      "\u001b[?25hCollecting openpyxl<4,>=3.0.9 (from oteapi-core<1,>=0.1.2->otelib==0.2.0)\n",
      "  Downloading openpyxl-3.1.2-py2.py3-none-any.whl (249 kB)\n",
      "\u001b[2K     \u001b[90m━━━━━━━━━━━━━━━━━━━━━━━━━━━━━━━━━━━━━━\u001b[0m \u001b[32m250.0/250.0 kB\u001b[0m \u001b[31m10.0 MB/s\u001b[0m eta \u001b[36m0:00:00\u001b[0m\n",
      "\u001b[?25hCollecting Pillow<10,>=9.0.0 (from oteapi-core<1,>=0.1.2->otelib==0.2.0)\n",
      "  Downloading Pillow-9.5.0-cp310-cp310-manylinux_2_28_x86_64.whl (3.4 MB)\n",
      "\u001b[2K     \u001b[90m━━━━━━━━━━━━━━━━━━━━━━━━━━━━━━━━━━━━━━━━\u001b[0m \u001b[32m3.4/3.4 MB\u001b[0m \u001b[31m12.0 MB/s\u001b[0m eta \u001b[36m0:00:00\u001b[0m00:01\u001b[0m00:01\u001b[0m\n",
      "\u001b[?25hCollecting pydantic<2,>=1.9.0 (from oteapi-core<1,>=0.1.2->otelib==0.2.0)\n",
      "  Downloading pydantic-1.10.7-cp310-cp310-manylinux_2_17_x86_64.manylinux2014_x86_64.whl (3.1 MB)\n",
      "\u001b[2K     \u001b[90m━━━━━━━━━━━━━━━━━━━━━━━━━━━━━━━━━━━━━━━━\u001b[0m \u001b[32m3.1/3.1 MB\u001b[0m \u001b[31m11.8 MB/s\u001b[0m eta \u001b[36m0:00:00\u001b[0m00:01\u001b[0m00:01\u001b[0m\n",
      "\u001b[?25hCollecting pysftp~=0.2.9 (from oteapi-core<1,>=0.1.2->otelib==0.2.0)\n",
      "  Downloading pysftp-0.2.9.tar.gz (25 kB)\n",
      "  Preparing metadata (setup.py) ... \u001b[?25ldone\n",
      "\u001b[?25hRequirement already satisfied: requests<3,>=2.26.0 in /opt/conda/lib/python3.10/site-packages (from oteapi-core<1,>=0.1.2->otelib==0.2.0) (2.29.0)\n",
      "Collecting future>=0.18.2 (from agraph-python<102,>=101.0.7->oteapi-core<1,>=0.1.2->otelib==0.2.0)\n",
      "  Downloading future-0.18.3.tar.gz (840 kB)\n",
      "\u001b[2K     \u001b[90m━━━━━━━━━━━━━━━━━━━━━━━━━━━━━━━━━━━━━━\u001b[0m \u001b[32m840.9/840.9 kB\u001b[0m \u001b[31m12.0 MB/s\u001b[0m eta \u001b[36m0:00:00\u001b[0m00:01\u001b[0m00:01\u001b[0m\n",
      "\u001b[?25h  Preparing metadata (setup.py) ... \u001b[?25ldone\n",
      "\u001b[?25hCollecting iso8601>=0.1.12 (from agraph-python<102,>=101.0.7->oteapi-core<1,>=0.1.2->otelib==0.2.0)\n",
      "  Downloading iso8601-1.1.0-py3-none-any.whl (9.9 kB)\n",
      "Requirement already satisfied: six>=1.10.0 in /opt/conda/lib/python3.10/site-packages (from agraph-python<102,>=101.0.7->oteapi-core<1,>=0.1.2->otelib==0.2.0) (1.16.0)\n",
      "Requirement already satisfied: pytz>=2021.3 in /opt/conda/lib/python3.10/site-packages (from celery<6,>=5.2.3->oteapi-core<1,>=0.1.2->otelib==0.2.0) (2023.3)\n",
      "Collecting billiard<4.0,>=3.6.4.0 (from celery<6,>=5.2.3->oteapi-core<1,>=0.1.2->otelib==0.2.0)\n",
      "  Downloading billiard-3.6.4.0-py3-none-any.whl (89 kB)\n",
      "\u001b[2K     \u001b[90m━━━━━━━━━━━━━━━━━━━━━━━━━━━━━━━━━━━━━━━━\u001b[0m \u001b[32m89.5/89.5 kB\u001b[0m \u001b[31m7.2 MB/s\u001b[0m eta \u001b[36m0:00:00\u001b[0m\n",
      "\u001b[?25hCollecting kombu<6.0,>=5.2.3 (from celery<6,>=5.2.3->oteapi-core<1,>=0.1.2->otelib==0.2.0)\n",
      "  Downloading kombu-5.2.4-py3-none-any.whl (189 kB)\n",
      "\u001b[2K     \u001b[90m━━━━━━━━━━━━━━━━━━━━━━━━━━━━━━━━━━━━━━━\u001b[0m \u001b[32m189.2/189.2 kB\u001b[0m \u001b[31m8.0 MB/s\u001b[0m eta \u001b[36m0:00:00\u001b[0m\n",
      "\u001b[?25hCollecting vine<6.0,>=5.0.0 (from celery<6,>=5.2.3->oteapi-core<1,>=0.1.2->otelib==0.2.0)\n",
      "  Downloading vine-5.0.0-py2.py3-none-any.whl (9.4 kB)\n",
      "Collecting click<9.0,>=8.0.3 (from celery<6,>=5.2.3->oteapi-core<1,>=0.1.2->otelib==0.2.0)\n",
      "  Downloading click-8.1.3-py3-none-any.whl (96 kB)\n",
      "\u001b[2K     \u001b[90m━━━━━━━━━━━━━━━━━━━━━━━━━━━━━━━━━━━━━━━━\u001b[0m \u001b[32m96.6/96.6 kB\u001b[0m \u001b[31m7.3 MB/s\u001b[0m eta \u001b[36m0:00:00\u001b[0m\n",
      "\u001b[?25hCollecting click-didyoumean>=0.0.3 (from celery<6,>=5.2.3->oteapi-core<1,>=0.1.2->otelib==0.2.0)\n",
      "  Downloading click_didyoumean-0.3.0-py3-none-any.whl (2.7 kB)\n",
      "Collecting click-repl>=0.2.0 (from celery<6,>=5.2.3->oteapi-core<1,>=0.1.2->otelib==0.2.0)\n",
      "  Downloading click_repl-0.2.0-py3-none-any.whl (5.2 kB)\n",
      "Collecting click-plugins>=1.1.1 (from celery<6,>=5.2.3->oteapi-core<1,>=0.1.2->otelib==0.2.0)\n",
      "  Downloading click_plugins-1.1.1-py2.py3-none-any.whl (7.5 kB)\n",
      "Collecting fastapi>=0.74.* (from fastapi-plugins~=0.11.0->oteapi-core<1,>=0.1.2->otelib==0.2.0)\n",
      "  Downloading fastapi-0.95.1-py3-none-any.whl (56 kB)\n",
      "\u001b[2K     \u001b[90m━━━━━━━━━━━━━━━━━━━━━━━━━━━━━━━━━━━━━━━━\u001b[0m \u001b[32m57.0/57.0 kB\u001b[0m \u001b[31m5.7 MB/s\u001b[0m eta \u001b[36m0:00:00\u001b[0m\n",
      "\u001b[?25hCollecting tenacity>=8.0.* (from fastapi-plugins~=0.11.0->oteapi-core<1,>=0.1.2->otelib==0.2.0)\n",
      "  Downloading tenacity-8.2.2-py3-none-any.whl (24 kB)\n",
      "Requirement already satisfied: python-json-logger>=2.0.* in /opt/conda/lib/python3.10/site-packages (from fastapi-plugins~=0.11.0->oteapi-core<1,>=0.1.2->otelib==0.2.0) (2.0.7)\n",
      "Collecting redis[hiredis]>=4.3.* (from fastapi-plugins~=0.11.0->oteapi-core<1,>=0.1.2->otelib==0.2.0)\n",
      "  Downloading redis-5.0.0b2-py3-none-any.whl (242 kB)\n",
      "\u001b[2K     \u001b[90m━━━━━━━━━━━━━━━━━━━━━━━━━━━━━━━━━━━━━━━\u001b[0m \u001b[32m242.5/242.5 kB\u001b[0m \u001b[31m9.1 MB/s\u001b[0m eta \u001b[36m0:00:00\u001b[0m\n",
      "\u001b[?25hCollecting aiojobs>=1.0.* (from fastapi-plugins~=0.11.0->oteapi-core<1,>=0.1.2->otelib==0.2.0)\n",
      "  Downloading aiojobs-1.1.0-py3-none-any.whl (12 kB)\n",
      "Collecting et-xmlfile (from openpyxl<4,>=3.0.9->oteapi-core<1,>=0.1.2->otelib==0.2.0)\n",
      "  Downloading et_xmlfile-1.1.0-py3-none-any.whl (4.7 kB)\n",
      "Requirement already satisfied: typing-extensions>=4.2.0 in /opt/conda/lib/python3.10/site-packages (from pydantic<2,>=1.9.0->oteapi-core<1,>=0.1.2->otelib==0.2.0) (4.5.0)\n",
      "Collecting paramiko>=1.17 (from pysftp~=0.2.9->oteapi-core<1,>=0.1.2->otelib==0.2.0)\n",
      "  Downloading paramiko-3.1.0-py3-none-any.whl (211 kB)\n",
      "\u001b[2K     \u001b[90m━━━━━━━━━━━━━━━━━━━━━━━━━━━━━━━━━━━━━━\u001b[0m \u001b[32m211.2/211.2 kB\u001b[0m \u001b[31m10.5 MB/s\u001b[0m eta \u001b[36m0:00:00\u001b[0m\n",
      "\u001b[?25hRequirement already satisfied: charset-normalizer<4,>=2 in /opt/conda/lib/python3.10/site-packages (from requests<3,>=2.26.0->oteapi-core<1,>=0.1.2->otelib==0.2.0) (3.1.0)\n",
      "Requirement already satisfied: idna<4,>=2.5 in /opt/conda/lib/python3.10/site-packages (from requests<3,>=2.26.0->oteapi-core<1,>=0.1.2->otelib==0.2.0) (3.4)\n",
      "Requirement already satisfied: urllib3<1.27,>=1.21.1 in /opt/conda/lib/python3.10/site-packages (from requests<3,>=2.26.0->oteapi-core<1,>=0.1.2->otelib==0.2.0) (1.26.15)\n",
      "Requirement already satisfied: certifi>=2017.4.17 in /opt/conda/lib/python3.10/site-packages (from requests<3,>=2.26.0->oteapi-core<1,>=0.1.2->otelib==0.2.0) (2022.12.7)\n",
      "Collecting async-timeout>=4.0.0 (from aiojobs>=1.0.*->fastapi-plugins~=0.11.0->oteapi-core<1,>=0.1.2->otelib==0.2.0)\n",
      "  Downloading async_timeout-4.0.2-py3-none-any.whl (5.8 kB)\n",
      "Requirement already satisfied: prompt-toolkit in /opt/conda/lib/python3.10/site-packages (from click-repl>=0.2.0->celery<6,>=5.2.3->oteapi-core<1,>=0.1.2->otelib==0.2.0) (3.0.38)\n",
      "Collecting starlette<0.27.0,>=0.26.1 (from fastapi>=0.74.*->fastapi-plugins~=0.11.0->oteapi-core<1,>=0.1.2->otelib==0.2.0)\n",
      "  Downloading starlette-0.26.1-py3-none-any.whl (66 kB)\n",
      "\u001b[2K     \u001b[90m━━━━━━━━━━━━━━━━━━━━━━━━━━━━━━━━━━━━━━━━\u001b[0m \u001b[32m66.9/66.9 kB\u001b[0m \u001b[31m4.0 MB/s\u001b[0m eta \u001b[36m0:00:00\u001b[0m\n",
      "\u001b[?25hCollecting amqp<6.0.0,>=5.0.9 (from kombu<6.0,>=5.2.3->celery<6,>=5.2.3->oteapi-core<1,>=0.1.2->otelib==0.2.0)\n",
      "  Downloading amqp-5.1.1-py3-none-any.whl (50 kB)\n",
      "\u001b[2K     \u001b[90m━━━━━━━━━━━━━━━━━━━━━━━━━━━━━━━━━━━━━━━━\u001b[0m \u001b[32m50.8/50.8 kB\u001b[0m \u001b[31m6.8 MB/s\u001b[0m eta \u001b[36m0:00:00\u001b[0m\n",
      "\u001b[?25hCollecting bcrypt>=3.2 (from paramiko>=1.17->pysftp~=0.2.9->oteapi-core<1,>=0.1.2->otelib==0.2.0)\n",
      "  Downloading bcrypt-4.0.1-cp36-abi3-manylinux_2_28_x86_64.whl (593 kB)\n",
      "\u001b[2K     \u001b[90m━━━━━━━━━━━━━━━━━━━━━━━━━━━━━━━━━━━━━━\u001b[0m \u001b[32m593.7/593.7 kB\u001b[0m \u001b[31m11.0 MB/s\u001b[0m eta \u001b[36m0:00:00\u001b[0ma \u001b[36m0:00:01\u001b[0m\n",
      "\u001b[?25hRequirement already satisfied: cryptography>=3.3 in /opt/conda/lib/python3.10/site-packages (from paramiko>=1.17->pysftp~=0.2.9->oteapi-core<1,>=0.1.2->otelib==0.2.0) (40.0.2)\n",
      "Collecting pynacl>=1.5 (from paramiko>=1.17->pysftp~=0.2.9->oteapi-core<1,>=0.1.2->otelib==0.2.0)\n",
      "  Downloading PyNaCl-1.5.0-cp36-abi3-manylinux_2_17_x86_64.manylinux2014_x86_64.manylinux_2_24_x86_64.whl (856 kB)\n",
      "\u001b[2K     \u001b[90m━━━━━━━━━━━━━━━━━━━━━━━━━━━━━━━━━━━━━━\u001b[0m \u001b[32m856.7/856.7 kB\u001b[0m \u001b[31m12.1 MB/s\u001b[0m eta \u001b[36m0:00:00\u001b[0m00:01\u001b[0m00:01\u001b[0m\n",
      "\u001b[?25hCollecting hiredis>=1.0.0 (from redis[hiredis]>=4.3.*->fastapi-plugins~=0.11.0->oteapi-core<1,>=0.1.2->otelib==0.2.0)\n",
      "  Downloading hiredis-2.2.2-cp310-cp310-manylinux_2_17_x86_64.manylinux2014_x86_64.whl (165 kB)\n",
      "\u001b[2K     \u001b[90m━━━━━━━━━━━━━━━━━━━━━━━━━━━━━━━━━━━━━━\u001b[0m \u001b[32m165.4/165.4 kB\u001b[0m \u001b[31m10.9 MB/s\u001b[0m eta \u001b[36m0:00:00\u001b[0m\n",
      "\u001b[?25hRequirement already satisfied: cffi>=1.12 in /opt/conda/lib/python3.10/site-packages (from cryptography>=3.3->paramiko>=1.17->pysftp~=0.2.9->oteapi-core<1,>=0.1.2->otelib==0.2.0) (1.15.1)\n",
      "Requirement already satisfied: anyio<5,>=3.4.0 in /opt/conda/lib/python3.10/site-packages (from starlette<0.27.0,>=0.26.1->fastapi>=0.74.*->fastapi-plugins~=0.11.0->oteapi-core<1,>=0.1.2->otelib==0.2.0) (3.6.2)\n",
      "Requirement already satisfied: wcwidth in /opt/conda/lib/python3.10/site-packages (from prompt-toolkit->click-repl>=0.2.0->celery<6,>=5.2.3->oteapi-core<1,>=0.1.2->otelib==0.2.0) (0.2.6)\n",
      "Requirement already satisfied: sniffio>=1.1 in /opt/conda/lib/python3.10/site-packages (from anyio<5,>=3.4.0->starlette<0.27.0,>=0.26.1->fastapi>=0.74.*->fastapi-plugins~=0.11.0->oteapi-core<1,>=0.1.2->otelib==0.2.0) (1.3.0)\n",
      "Requirement already satisfied: pycparser in /opt/conda/lib/python3.10/site-packages (from cffi>=1.12->cryptography>=3.3->paramiko>=1.17->pysftp~=0.2.9->oteapi-core<1,>=0.1.2->otelib==0.2.0) (2.21)\n",
      "Building wheels for collected packages: pysftp, future\n",
      "  Building wheel for pysftp (setup.py) ... \u001b[?25ldone\n",
      "\u001b[?25h  Created wheel for pysftp: filename=pysftp-0.2.9-py3-none-any.whl size=15496 sha256=4711e858faad94d452cc0caf5a297fa2373884a8bf49ffbeca58b04b98f816ab\n",
      "  Stored in directory: /home/jovyan/.cache/pip/wheels/64/52/87/2683826a06d053045a9bd11f05850e26bbdbfbf821ee6735f0\n",
      "  Building wheel for future (setup.py) ... \u001b[?25ldone\n",
      "\u001b[?25h  Created wheel for future: filename=future-0.18.3-py3-none-any.whl size=492022 sha256=be0eaac7b16ca60f82c9aca0ff25ab573ad9a0a83eb3c656d176943aeb3d35bb\n",
      "  Stored in directory: /home/jovyan/.cache/pip/wheels/5e/a9/47/f118e66afd12240e4662752cc22cefae5d97275623aa8ef57d\n",
      "Successfully built pysftp future\n",
      "Installing collected packages: billiard, vine, tenacity, pydantic, Pillow, numpy, iso8601, hiredis, future, et-xmlfile, diskcache, click, bcrypt, async-timeout, starlette, redis, pynacl, openpyxl, click-repl, click-plugins, click-didyoumean, amqp, aiojobs, agraph-python, paramiko, kombu, fastapi, pysftp, fastapi-plugins, celery, oteapi-core, otelib\n",
      "Successfully installed Pillow-9.5.0 agraph-python-101.0.11 aiojobs-1.1.0 amqp-5.1.1 async-timeout-4.0.2 bcrypt-4.0.1 billiard-3.6.4.0 celery-5.2.7 click-8.1.3 click-didyoumean-0.3.0 click-plugins-1.1.1 click-repl-0.2.0 diskcache-5.6.1 et-xmlfile-1.1.0 fastapi-0.95.1 fastapi-plugins-0.11.0 future-0.18.3 hiredis-2.2.2 iso8601-1.1.0 kombu-5.2.4 numpy-1.24.3 openpyxl-3.1.2 oteapi-core-0.4.1 otelib-0.2.0 paramiko-3.1.0 pydantic-1.10.7 pynacl-1.5.0 pysftp-0.2.9 redis-5.0.0b2 starlette-0.26.1 tenacity-8.2.2 vine-5.0.0\n"
     ]
    }
   ],
   "source": [
    "!pip install otelib==0.2.0"
   ]
  },
  {
   "cell_type": "markdown",
   "metadata": {},
   "source": [
    "wrapper and the requirements for its service is installed:"
   ]
  },
  {
   "cell_type": "code",
   "execution_count": 2,
   "metadata": {
    "tags": [],
    "vscode": {
     "languageId": "python"
    }
   },
   "outputs": [],
   "source": [
    "from otelib import OTEClient\n",
    "import os\n",
    "import requests\n",
    "from pprint import pprint\n",
    "\n",
    "# Configuration\n",
    "OTEAPI_service_URL = \"http://ote_api:8080\"\n",
    "OTEAPI_prefix = \"/api/v1\"\n",
    "\n",
    "# Set environment variables\n",
    "os.environ[\"OTEAPI_prefix\"] = OTEAPI_prefix\n",
    "\n",
    "client = OTEClient(OTEAPI_service_URL)"
   ]
  },
  {
   "cell_type": "code",
   "execution_count": 3,
   "metadata": {
    "tags": [],
    "vscode": {
     "languageId": "python"
    }
   },
   "outputs": [],
   "source": [
    "BASE_URL = \"http://simphony_server:8080\""
   ]
  },
  {
   "cell_type": "code",
   "execution_count": 4,
   "metadata": {
    "tags": [],
    "vscode": {
     "languageId": "python"
    }
   },
   "outputs": [],
   "source": [
    "ontologypath = f\"{BASE_URL}/ontology\"\n",
    "cudspath = f\"{BASE_URL}/examples/simphony/turtle\"\n",
    "source = client.create_dataresource(\n",
    "    downloadUrl=cudspath,\n",
    "    mediaType=\"application/CUDS\",\n",
    "    configuration={\n",
    "        \"ontologyUrl\": ontologypath,\n",
    "        },\n",
    ")"
   ]
  },
  {
   "cell_type": "code",
   "execution_count": 5,
   "metadata": {
    "tags": []
   },
   "outputs": [
    {
     "data": {
      "text/plain": [
       "b'{\"content\":{\"@graph\":[{\"@id\":\"cuds:bc34f079-3f43-4fc5-a189-e5e71183d54d\",\"@type\":\"mods:DataPointItem\",\"mods:name\":\"var5\",\"mods:value\":\"1.7\",\"mods:isPartOf\":{\"@id\":\"cuds:0ef5b540-083c-4d88-82b0-f0ad6cb57a13\"}},{\"@id\":\"cuds:3fe5a253-5227-43a7-9124-348fe3db044b\",\"@type\":\"mods:DataPointItem\",\"mods:value\":\"0.1\",\"mods:name\":\"var4\",\"mods:isPartOf\":{\"@id\":\"cuds:ede09711-5318-4eba-93c3-be6443b1087b\"}},{\"@id\":\"cuds:f2b16624-ef7c-414d-9212-c772f151f130\",\"@type\":\"mods:Variable\",\"mods:maximum\":\"None\",\"mods:type\":\"output\",\"mods:objective\":\"None\",\"mods:name\":\"var6\",\"mods:minimum\":\"None\",\"mods:weight\":\"None\",\"mods:isPartOf\":{\"@id\":\"cuds:31fd7933-2e3e-4b00-a175-fe2ad47d46e5\"}},{\"@id\":\"cuds:777c5c44-2ca0-463d-a122-a1fcfcc6c3b8\",\"@type\":\"mods:DataPointItem\",\"mods:value\":\"1.2\",\"mods:name\":\"var5\",\"mods:isPartOf\":{\"@id\":\"cuds:ede09711-5318-4eba-93c3-be6443b1087b\"}},{\"@id\":\"cuds:5a2f3404-13b4-4d6c-83b5-e940f6b608ac\",\"@type\":\"mods:DataPointItem\",\"mods:name\":\"var2\",\"mods:value\":\"0.8\",\"mods:isPartOf\":{\"@id\":\"cuds:0ef5b540-083c-4d88-82b0-f0ad6cb57a13\"}},{\"@id\":\"cuds:fb6c40bb-2906-42e8-8e22-06520cd0ffd0\",\"@type\":\"mods:DataPoint\",\"mods:hasPart\":[{\"@id\":\"cuds:fe0e0f93-42a3-4c09-a94f-dddbf76bb5cc\"},{\"@id\":\"cuds:f3b16350-bd7f-432a-8d54-66490d51814e\"},{\"@id\":\"cuds:a3e74a16-e195-4a7e-9bf0-9ae398633083\"},{\"@id\":\"cuds:1b8a22bc-99d8-4905-89fc-fe2e89637f7f\"},{\"@id\":\"cuds:20f9b8df-173f-4cd4-afa8-5ec12a186d8e\"},{\"@id\":\"cuds:7204f761-786a-43f8-868b-ff638e57646d\"}],\"mods:isPartOf\":{\"@id\":\"cuds:d353811e-6c09-4dc2-b842-cf6bf1abe9bf\"}},{\"@id\":\"cuds:d353811e-6c09-4dc2-b842-cf6bf1abe9bf\",\"@type\":\"mods:InputData\",\"mods:hasPart\":[{\"@id\":\"cuds:ede09711-5318-4eba-93c3-be6443b1087b\"},{\"@id\":\"cuds:fb6c40bb-2906-42e8-8e22-06520cd0ffd0\"},{\"@id\":\"cuds:ae4ce53b-fe54-428e-b975-a7227af21381\"},{\"@id\":\"cuds:5d61a7de-8969-4655-9dce-c7f13d2f376f\"},{\"@id\":\"cuds:0ef5b540-083c-4d88-82b0-f0ad6cb57a13\"}],\"mods:isPartOf\":{\"@id\":\"cuds:0bf53dd4-df34-4a7a-83e7-1ddf19e32d90\"}},{\"@id\":\"cuds:0e146587-ec9d-4671-b52d-9fb37ac6cd7b\",\"@type\":\"mods:DataPointItem\",\"mods:name\":\"var1\",\"mods:value\":\"0.2\",\"mods:isPartOf\":{\"@id\":\"cuds:0ef5b540-083c-4d88-82b0-f0ad6cb57a13\"}},{\"@id\":\"cuds:8795f76e-9d15-4fcb-b4ca-7d1eef42e369\",\"@type\":\"mods:Variable\",\"mods:maximum\":\"None\",\"mods:minimum\":\"None\",\"mods:objective\":\"None\",\"mods:weight\":\"None\",\"mods:type\":\"input\",\"mods:name\":\"var1\",\"mods:isPartOf\":{\"@id\":\"cuds:31fd7933-2e3e-4b00-a175-fe2ad47d46e5\"}},{\"@id\":\"cuds:f3b16350-bd7f-432a-8d54-66490d51814e\",\"@type\":\"mods:DataPointItem\",\"mods:name\":\"var2\",\"mods:value\":\"0.9\",\"mods:isPartOf\":{\"@id\":\"cuds:fb6c40bb-2906-42e8-8e22-06520cd0ffd0\"}},{\"@id\":\"cuds:9022494c-04a9-415b-b21c-4ba9fe762835\",\"@type\":\"mods:DataPointItem\",\"mods:name\":\"var5\",\"mods:value\":\"1.0\",\"mods:isPartOf\":{\"@id\":\"cuds:ae4ce53b-fe54-428e-b975-a7227af21381\"}},{\"@id\":\"cuds:003d49c0-92e8-4b03-9970-1718f00d7027\",\"@type\":\"mods:DataPointItem\",\"mods:name\":\"var4\",\"mods:value\":\"0.1\",\"mods:isPartOf\":{\"@id\":\"cuds:0ef5b540-083c-4d88-82b0-f0ad6cb57a13\"}},{\"@id\":\"cuds:5e6185b5-4a0b-43c2-ac09-ff6ac55046cc\",\"@type\":\"mods:Variable\",\"mods:minimum\":\"2.5\",\"mods:weight\":\"0.7\",\"mods:objective\":\"Maximise\",\"mods:maximum\":\"None\",\"mods:type\":\"output\",\"mods:name\":\"var6\",\"mods:isPartOf\":{\"@id\":\"cuds:8d27d9a1-7ca0-4b99-8b47-c2a24be196ef\"}},{\"@id\":\"cuds:43d12ba1-bc8b-4455-a809-d380d0cfd99f\",\"@type\":\"mods:Variable\",\"mods:maximum\":\"1.5\",\"mods:weight\":\"0.1\",\"mods:type\":\"output\",\"mods:objective\":\"Minimise\",\"mods:minimum\":\"None\",\"mods:name\":\"var5\",\"mods:isPartOf\":{\"@id\":\"cuds:8d27d9a1-7ca0-4b99-8b47-c2a24be196ef\"}},{\"@id\":\"cuds:a3e74a16-e195-4a7e-9bf0-9ae398633083\",\"@type\":\"mods:DataPointItem\",\"mods:value\":\"0.1\",\"mods:name\":\"var3\",\"mods:isPartOf\":{\"@id\":\"cuds:fb6c40bb-2906-42e8-8e22-06520cd0ffd0\"}},{\"@id\":\"cuds:48406ba2-67e7-4e98-ad9c-eaa10d53b23c\",\"@type\":\"mods:DataPointItem\",\"mods:value\":\"0.0\",\"mods:name\":\"var2\",\"mods:isPartOf\":{\"@id\":\"cuds:ae4ce53b-fe54-428e-b975-a7227af21381\"}},{\"@id\":\"cuds:0ef5b540-083c-4d88-82b0-f0ad6cb57a13\",\"@type\":\"mods:DataPoint\",\"mods:hasPart\":[{\"@id\":\"cuds:0e146587-ec9d-4671-b52d-9fb37ac6cd7b\"},{\"@id\":\"cuds:5a2f3404-13b4-4d6c-83b5-e940f6b608ac\"},{\"@id\":\"cuds:b34b108b-853c-4945-b4ac-b27077c43420\"},{\"@id\":\"cuds:003d49c0-92e8-4b03-9970-1718f00d7027\"},{\"@id\":\"cuds:bc34f079-3f43-4fc5-a189-e5e71183d54d\"},{\"@id\":\"cuds:0b0c7fab-2ab8-482f-a6cc-c494ca6e2056\"}],\"mods:isPartOf\":{\"@id\":\"cuds:d353811e-6c09-4dc2-b842-cf6bf1abe9bf\"}},{\"@id\":\"cuds:fb1828b1-a934-404d-94b3-ed4256496e15\",\"@type\":\"mods:DataPointItem\",\"mods:name\":\"var2\",\"mods:value\":\"0.1\",\"mods:isPartOf\":{\"@id\":\"cuds:5d61a7de-8969-4655-9dce-c7f13d2f376f\"}},{\"@id\":\"cuds:fe0e0f93-42a3-4c09-a94f-dddbf76bb5cc\",\"@type\":\"mods:DataPointItem\",\"mods:value\":\"0.3\",\"mods:name\":\"var1\",\"mods:isPartOf\":{\"@id\":\"cuds:fb6c40bb-2906-42e8-8e22-06520cd0ffd0\"}},{\"@id\":\"cuds:556d38a0-c5e6-4f09-9177-fb5f5ed6e7c7\",\"@type\":\"mods:DataPointItem\",\"mods:name\":\"var1\",\"mods:value\":\"0.1\",\"mods:isPartOf\":{\"@id\":\"cuds:5d61a7de-8969-4655-9dce-c7f13d2f376f\"}},{\"@id\":\"cuds:e1e2e12d-5c70-4e05-9c42-5bdf7825a891\",\"@type\":\"mods:Variable\",\"mods:objective\":\"None\",\"mods:type\":\"input\",\"mods:name\":\"var2\",\"mods:weight\":\"None\",\"mods:minimum\":\"None\",\"mods:maximum\":\"None\",\"mods:isPartOf\":{\"@id\":\"cuds:8d27d9a1-7ca0-4b99-8b47-c2a24be196ef\"}},{\"@id\":\"cuds:043b7192-100f-4d6e-b537-ee2c8711b362\",\"@type\":\"mods:DataPointItem\",\"mods:value\":\"1.2\",\"mods:name\":\"var6\",\"mods:isPartOf\":{\"@id\":\"cuds:ae4ce53b-fe54-428e-b975-a7227af21381\"}},{\"@id\":\"cuds:5e9269f5-82d9-4a90-8fef-d22c2f473448\",\"@type\":\"mods:Variable\",\"mods:weight\":\"None\",\"mods:type\":\"input\",\"mods:maximum\":\"None\",\"mods:name\":\"var3\",\"mods:objective\":\"None\",\"mods:minimum\":\"None\",\"mods:isPartOf\":{\"@id\":\"cuds:31fd7933-2e3e-4b00-a175-fe2ad47d46e5\"}},{\"@id\":\"cuds:f5b78df8-c86f-4f0b-9445-f4d0dbe28633\",\"@type\":\"mods:Variable\",\"mods:minimum\":\"None\",\"mods:weight\":\"None\",\"mods:name\":\"var3\",\"mods:type\":\"input\",\"mods:maximum\":\"None\",\"mods:objective\":\"None\",\"mods:isPartOf\":{\"@id\":\"cuds:8d27d9a1-7ca0-4b99-8b47-c2a24be196ef\"}},{\"@id\":\"cuds:0bf53dd4-df34-4a7a-83e7-1ddf19e32d90\",\"@type\":\"mods:MultiObjectiveSimulation\",\"mods:hasPart\":[{\"@id\":\"cuds:31fd7933-2e3e-4b00-a175-fe2ad47d46e5\"},{\"@id\":\"cuds:8d27d9a1-7ca0-4b99-8b47-c2a24be196ef\"},{\"@id\":\"cuds:d353811e-6c09-4dc2-b842-cf6bf1abe9bf\"}]},{\"@id\":\"cuds:ae4ce53b-fe54-428e-b975-a7227af21381\",\"@type\":\"mods:DataPoint\",\"mods:hasPart\":[{\"@id\":\"cuds:38d0ab5a-09af-4a94-860b-66dee298f2ee\"},{\"@id\":\"cuds:48406ba2-67e7-4e98-ad9c-eaa10d53b23c\"},{\"@id\":\"cuds:cf0315d7-371e-4e5d-90e9-f879b4af06ad\"},{\"@id\":\"cuds:60748644-7bc6-4a9f-a818-6cd823ead953\"},{\"@id\":\"cuds:9022494c-04a9-415b-b21c-4ba9fe762835\"},{\"@id\":\"cuds:043b7192-100f-4d6e-b537-ee2c8711b362\"}],\"mods:isPartOf\":{\"@id\":\"cuds:d353811e-6c09-4dc2-b842-cf6bf1abe9bf\"}},{\"@id\":\"cuds:2fd46cdb-4669-4468-b25c-fbda54c817a0\",\"@type\":\"mods:DataPointItem\",\"mods:value\":\"0.5\",\"mods:name\":\"var3\",\"mods:isPartOf\":{\"@id\":\"cuds:ede09711-5318-4eba-93c3-be6443b1087b\"}},{\"@id\":\"cuds:9c2deaae-657b-40c4-acdb-02ac47ac4b1e\",\"@type\":\"mods:DataPointItem\",\"mods:name\":\"var2\",\"mods:value\":\"0.4\",\"mods:isPartOf\":{\"@id\":\"cuds:ede09711-5318-4eba-93c3-be6443b1087b\"}},{\"@id\":\"cuds:2dc3acfe-cfbb-4325-b04a-a0d0559db13b\",\"@type\":\"mods:Variable\",\"mods:weight\":\"None\",\"mods:minimum\":\"None\",\"mods:name\":\"var4\",\"mods:maximum\":\"None\",\"mods:type\":\"output\",\"mods:objective\":\"None\",\"mods:isPartOf\":{\"@id\":\"cuds:31fd7933-2e3e-4b00-a175-fe2ad47d46e5\"}},{\"@id\":\"cuds:3676313c-6997-411f-b7ea-d0de5572d08e\",\"@type\":\"mods:Variable\",\"mods:objective\":\"None\",\"mods:minimum\":\"None\",\"mods:type\":\"output\",\"mods:weight\":\"None\",\"mods:name\":\"var5\",\"mods:maximum\":\"None\",\"mods:isPartOf\":{\"@id\":\"cuds:31fd7933-2e3e-4b00-a175-fe2ad47d46e5\"}},{\"@id\":\"cuds:8d27d9a1-7ca0-4b99-8b47-c2a24be196ef\",\"@type\":\"mods:Algorithm\",\"mods:surrogateToLoad\":\"None\",\"mods:type\":\"MOO\",\"mods:name\":\"algorithm2\",\"mods:saveSurrogate\":false,\"mods:maxNumberOfResults\":\"10\",\"mods:hasPart\":[{\"@id\":\"cuds:4731885e-bcf5-497e-8a02-eb0dbd9c84f2\"},{\"@id\":\"cuds:e1e2e12d-5c70-4e05-9c42-5bdf7825a891\"},{\"@id\":\"cuds:f5b78df8-c86f-4f0b-9445-f4d0dbe28633\"},{\"@id\":\"cuds:88294493-194c-41d6-9032-5dfc5b0d3cdf\"},{\"@id\":\"cuds:43d12ba1-bc8b-4455-a809-d380d0cfd99f\"},{\"@id\":\"cuds:5e6185b5-4a0b-43c2-ac09-ff6ac55046cc\"}],\"mods:isPartOf\":{\"@id\":\"cuds:0bf53dd4-df34-4a7a-83e7-1ddf19e32d90\"}},{\"@id\":\"cuds:20f9b8df-173f-4cd4-afa8-5ec12a186d8e\",\"@type\":\"mods:DataPointItem\",\"mods:value\":\"2.0\",\"mods:name\":\"var5\",\"mods:isPartOf\":{\"@id\":\"cuds:fb6c40bb-2906-42e8-8e22-06520cd0ffd0\"}},{\"@id\":\"cuds:5325e9d2-5a98-487f-b08c-ee8a6466ae20\",\"@type\":\"mods:DataPointItem\",\"mods:name\":\"var6\",\"mods:value\":\"2.5\",\"mods:isPartOf\":{\"@id\":\"cuds:ede09711-5318-4eba-93c3-be6443b1087b\"}},{\"@id\":\"cuds:7080e857-0cf6-4a42-9659-2bcd3ec2c4dc\",\"@type\":\"mods:DataPointItem\",\"mods:name\":\"var5\",\"mods:value\":\"1.6\",\"mods:isPartOf\":{\"@id\":\"cuds:5d61a7de-8969-4655-9dce-c7f13d2f376f\"}},{\"@id\":\"cuds:b34b108b-853c-4945-b4ac-b27077c43420\",\"@type\":\"mods:DataPointItem\",\"mods:name\":\"var3\",\"mods:value\":\"0.5\",\"mods:isPartOf\":{\"@id\":\"cuds:0ef5b540-083c-4d88-82b0-f0ad6cb57a13\"}},{\"@id\":\"cuds:cf0315d7-371e-4e5d-90e9-f879b4af06ad\",\"@type\":\"mods:DataPointItem\",\"mods:value\":\"0.2\",\"mods:name\":\"var3\",\"mods:isPartOf\":{\"@id\":\"cuds:ae4ce53b-fe54-428e-b975-a7227af21381\"}},{\"@id\":\"cuds:50e0000c-ea37-446d-bf7e-0e2df219ba82\",\"@type\":\"mods:DataPointItem\",\"mods:value\":\"0.3\",\"mods:name\":\"var3\",\"mods:isPartOf\":{\"@id\":\"cuds:5d61a7de-8969-4655-9dce-c7f13d2f376f\"}},{\"@id\":\"cuds:60748644-7bc6-4a9f-a818-6cd823ead953\",\"@type\":\"mods:DataPointItem\",\"mods:value\":\"0.1\",\"mods:name\":\"var4\",\"mods:isPartOf\":{\"@id\":\"cuds:ae4ce53b-fe54-428e-b975-a7227af21381\"}},{\"@id\":\"cuds:7204f761-786a-43f8-868b-ff638e57646d\",\"@type\":\"mods:DataPointItem\",\"mods:name\":\"var6\",\"mods:value\":\"3.0\",\"mods:isPartOf\":{\"@id\":\"cuds:fb6c40bb-2906-42e8-8e22-06520cd0ffd0\"}},{\"@id\":\"cuds:1b8a22bc-99d8-4905-89fc-fe2e89637f7f\",\"@type\":\"mods:DataPointItem\",\"mods:value\":\"0.9\",\"mods:name\":\"var4\",\"mods:isPartOf\":{\"@id\":\"cuds:fb6c40bb-2906-42e8-8e22-06520cd0ffd0\"}},{\"@id\":\"cuds:38d0ab5a-09af-4a94-860b-66dee298f2ee\",\"@type\":\"mods:DataPointItem\",\"mods:value\":\"0.6\",\"mods:name\":\"var1\",\"mods:isPartOf\":{\"@id\":\"cuds:ae4ce53b-fe54-428e-b975-a7227af21381\"}},{\"@id\":\"cuds:6708c59a-6972-4ac7-96f5-b909459c728c\",\"@type\":\"mods:Variable\",\"mods:objective\":\"None\",\"mods:weight\":\"None\",\"mods:name\":\"var2\",\"mods:type\":\"input\",\"mods:maximum\":\"None\",\"mods:minimum\":\"None\",\"mods:isPartOf\":{\"@id\":\"cuds:31fd7933-2e3e-4b00-a175-fe2ad47d46e5\"}},{\"@id\":\"cuds:45afe88a-64be-458f-b00d-344bead3e8a0\",\"@type\":\"mods:DataPointItem\",\"mods:value\":\"0.1\",\"mods:name\":\"var1\",\"mods:isPartOf\":{\"@id\":\"cuds:ede09711-5318-4eba-93c3-be6443b1087b\"}},{\"@id\":\"cuds:31fd7933-2e3e-4b00-a175-fe2ad47d46e5\",\"@type\":\"mods:Algorithm\",\"mods:name\":\"algorithm1\",\"mods:type\":\"GenSurrogateAlg\",\"mods:surrogateToLoad\":\"None\",\"mods:saveSurrogate\":false,\"mods:maxNumberOfResults\":\"None\",\"mods:hasPart\":[{\"@id\":\"cuds:8795f76e-9d15-4fcb-b4ca-7d1eef42e369\"},{\"@id\":\"cuds:6708c59a-6972-4ac7-96f5-b909459c728c\"},{\"@id\":\"cuds:5e9269f5-82d9-4a90-8fef-d22c2f473448\"},{\"@id\":\"cuds:2dc3acfe-cfbb-4325-b04a-a0d0559db13b\"},{\"@id\":\"cuds:3676313c-6997-411f-b7ea-d0de5572d08e\"},{\"@id\":\"cuds:f2b16624-ef7c-414d-9212-c772f151f130\"}],\"mods:isPartOf\":{\"@id\":\"cuds:0bf53dd4-df34-4a7a-83e7-1ddf19e32d90\"}},{\"@id\":\"cuds:88294493-194c-41d6-9032-5dfc5b0d3cdf\",\"@type\":\"mods:Variable\",\"mods:minimum\":\"0.5\",\"mods:type\":\"output\",\"mods:objective\":\"Maximise\",\"mods:weight\":\"0.5\",\"mods:name\":\"var4\",\"mods:maximum\":\"None\",\"mods:isPartOf\":{\"@id\":\"cuds:8d27d9a1-7ca0-4b99-8b47-c2a24be196ef\"}},{\"@id\":\"cuds:ede09711-5318-4eba-93c3-be6443b1087b\",\"@type\":\"mods:DataPoint\",\"mods:hasPart\":[{\"@id\":\"cuds:45afe88a-64be-458f-b00d-344bead3e8a0\"},{\"@id\":\"cuds:9c2deaae-657b-40c4-acdb-02ac47ac4b1e\"},{\"@id\":\"cuds:2fd46cdb-4669-4468-b25c-fbda54c817a0\"},{\"@id\":\"cuds:3fe5a253-5227-43a7-9124-348fe3db044b\"},{\"@id\":\"cuds:777c5c44-2ca0-463d-a122-a1fcfcc6c3b8\"},{\"@id\":\"cuds:5325e9d2-5a98-487f-b08c-ee8a6466ae20\"}],\"mods:isPartOf\":{\"@id\":\"cuds:d353811e-6c09-4dc2-b842-cf6bf1abe9bf\"}},{\"@id\":\"cuds:abbde868-19b2-4d52-89cd-7ba38c27def6\",\"@type\":\"mods:DataPointItem\",\"mods:value\":\"2.1\",\"mods:name\":\"var6\",\"mods:isPartOf\":{\"@id\":\"cuds:5d61a7de-8969-4655-9dce-c7f13d2f376f\"}},{\"@id\":\"cuba:_serialization\",\"rdf:first\":\"0bf53dd4-df34-4a7a-83e7-1ddf19e32d90\"},{\"@id\":\"cuds:5d61a7de-8969-4655-9dce-c7f13d2f376f\",\"@type\":\"mods:DataPoint\",\"mods:hasPart\":[{\"@id\":\"cuds:556d38a0-c5e6-4f09-9177-fb5f5ed6e7c7\"},{\"@id\":\"cuds:fb1828b1-a934-404d-94b3-ed4256496e15\"},{\"@id\":\"cuds:50e0000c-ea37-446d-bf7e-0e2df219ba82\"},{\"@id\":\"cuds:6648a6bc-95c5-49a4-836e-35ab6fb31226\"},{\"@id\":\"cuds:7080e857-0cf6-4a42-9659-2bcd3ec2c4dc\"},{\"@id\":\"cuds:abbde868-19b2-4d52-89cd-7ba38c27def6\"}],\"mods:isPartOf\":{\"@id\":\"cuds:d353811e-6c09-4dc2-b842-cf6bf1abe9bf\"}},{\"@id\":\"cuds:6648a6bc-95c5-49a4-836e-35ab6fb31226\",\"@type\":\"mods:DataPointItem\",\"mods:value\":\"0.7\",\"mods:name\":\"var4\",\"mods:isPartOf\":{\"@id\":\"cuds:5d61a7de-8969-4655-9dce-c7f13d2f376f\"}},{\"@id\":\"cuds:0b0c7fab-2ab8-482f-a6cc-c494ca6e2056\",\"@type\":\"mods:DataPointItem\",\"mods:value\":\"4.0\",\"mods:name\":\"var6\",\"mods:isPartOf\":{\"@id\":\"cuds:0ef5b540-083c-4d88-82b0-f0ad6cb57a13\"}},{\"@id\":\"cuds:4731885e-bcf5-497e-8a02-eb0dbd9c84f2\",\"@type\":\"mods:Variable\",\"mods:weight\":\"None\",\"mods:minimum\":\"None\",\"mods:maximum\":\"None\",\"mods:objective\":\"None\",\"mods:type\":\"input\",\"mods:name\":\"var1\",\"mods:isPartOf\":{\"@id\":\"cuds:8d27d9a1-7ca0-4b99-8b47-c2a24be196ef\"}}],\"@context\":{\"brick\":\"https://brickschema.org/schema/Brick#\",\"csvw\":\"http://www.w3.org/ns/csvw#\",\"dc\":\"http://purl.org/dc/elements/1.1/\",\"dcat\":\"http://www.w3.org/ns/dcat#\",\"dcmitype\":\"http://purl.org/dc/dcmitype/\",\"dcterms\":\"http://purl.org/dc/terms/\",\"dcam\":\"http://purl.org/dc/dcam/\",\"doap\":\"http://usefulinc.com/ns/doap#\",\"foaf\":\"http://xmlns.com/foaf/0.1/\",\"geo\":\"http://www.opengis.net/ont/geosparql#\",\"odrl\":\"http://www.w3.org/ns/odrl/2/\",\"org\":\"http://www.w3.org/ns/org#\",\"prof\":\"http://www.w3.org/ns/dx/prof/\",\"prov\":\"http://www.w3.org/ns/prov#\",\"qb\":\"http://purl.org/linked-data/cube#\",\"schema\":\"https://schema.org/\",\"sh\":\"http://www.w3.org/ns/shacl#\",\"skos\":\"http://www.w3.org/2004/02/skos/core#\",\"sosa\":\"http://www.w3.org/ns/sosa/\",\"ssn\":\"http://www.w3.org/ns/ssn/\",\"time\":\"http://www.w3.org/2006/time#\",\"vann\":\"http://purl.org/vocab/vann/\",\"void\":\"http://rdfs.org/ns/void#\",\"wgs\":\"https://www.w3.org/2003/01/geo/wgs84_pos#\",\"owl\":\"http://www.w3.org/2002/07/owl#\",\"rdf\":\"http://www.w3.org/1999/02/22-rdf-syntax-ns#\",\"rdfs\":\"http://www.w3.org/2000/01/rdf-schema#\",\"xsd\":\"http://www.w3.org/2001/XMLSchema#\",\"cuba\":\"http://www.osp-core.com/cuba#\",\"amiiiparam\":\"http://www.osp-core.com/amiiiparam#\",\"amiii\":\"http://www.osp-core.com/amiii#\",\"mods\":\"http://www.osp-core.com/mods#\",\"cuds\":\"http://www.osp-core.com/cuds#\"}}}'"
      ]
     },
     "execution_count": 5,
     "metadata": {},
     "output_type": "execute_result"
    }
   ],
   "source": [
    "input_cuds_path = f\"{BASE_URL}/examples/simphony/json\"\n",
    "source = client.create_dataresource(\n",
    "    downloadUrl=input_cuds_path,\n",
    "    mediaType=\"application/json\",\n",
    ")"
   ]
  },
  {
   "cell_type": "code",
   "execution_count": 10,
   "metadata": {
    "tags": [],
    "vscode": {
     "languageId": "python"
    }
   },
   "outputs": [],
   "source": [
    "output_cuds_path = \"/tmp/oteapi/ontology/outputCUDS.ttl\"\n",
    "transformation = client.create_transformation(**{\n",
    "        \"transformationType\": \"application/simulation\",\n",
    "        \"configuration\": {\n",
    "            \"timeout\": 10,\n",
    "            \"backend\": \"celery\",\n",
    "            \"run\": {\n",
    "                \"request_input\":{\n",
    "                    \"url\": f\"{BASE_URL}/run\",\n",
    "                    \"method\":\"post\",\n",
    "                    \"content_type\":\"application/ld+json\",\n",
    "                    \"payload_from_session_cache\":\"key\"\n",
    "                },\n",
    "                \"request_output\": {\n",
    "                    \"content_type\":\"application/json\",\n",
    "                    \"payload_to_session\": {\"id\": \"$.task_id\"}\n",
    "                }\n",
    "            },\n",
    "            \"status\": {\n",
    "                \"request_input\":{\n",
    "                    \"url\": f\"{BASE_URL}/status/<task_id>\",\n",
    "                    \"method\": \"get\",\n",
    "                    \"arg_from_session\": {\n",
    "                        \"id\": \"<task_id>\"\n",
    "                    }\n",
    "                },\n",
    "                \"request_output\":{\n",
    "                    \"content_type\":\"application/json\",\n",
    "                    \"payload_to_session\": {\n",
    "                        \"status\": \"$.status\",\n",
    "                        \"message\": \"$.message\"\n",
    "                    }\n",
    "                }\n",
    "            },\n",
    "            \"results\": {\n",
    "                \"request_input\": {\n",
    "                    \"url\": f\"{BASE_URL}/get/<task_id>\",\n",
    "                    \"arg_from_session\": {\n",
    "                        \"id\": \"<task_id>\"\n",
    "                    },\n",
    "                    \"method\": \"get\",\n",
    "                },\n",
    "                \"request_output\": {\n",
    "                    \"content_type\":\"text/turtle; charset=utf-8\",\n",
    "                    \"payload_to_cache\": \"output_cuds_key\",\n",
    "                }\n",
    "            },\n",
    "            \"upload\": {\n",
    "                \"functionType\": \"function/SaveGraph\",\n",
    "                \"configuration\": {\n",
    "                    \"fileDestination\": output_cuds_path,\n",
    "                    \"graph_sessionKey\": \"output_cuds_key\",\n",
    "                }\n",
    "            }\n",
    "        },\n",
    "        \"status_mapping\": {\n",
    "            \"RUNNING\": \"RUNNING\",\n",
    "            \"PENDING\": \"PENDING\",\n",
    "            \"FAILURE\": \"FAILURE\",\n",
    "            \"SUCCESS\": \"SUCCESS\"\n",
    "        },\n",
    "    }\n",
    ")"
   ]
  },
  {
   "cell_type": "code",
   "execution_count": 11,
   "metadata": {
    "tags": [],
    "vscode": {
     "languageId": "python"
    }
   },
   "outputs": [
    {
     "data": {
      "text/plain": [
       "b'{\"output_cuds_key\":\"e3b0c44298fc1c149afbf4c8996fb92427ae41e4649b934ca495991b7852b855\",\"content\":{\"@graph\":[{\"@id\":\"cuds:bc34f079-3f43-4fc5-a189-e5e71183d54d\",\"@type\":\"mods:DataPointItem\",\"mods:name\":\"var5\",\"mods:value\":\"1.7\",\"mods:isPartOf\":{\"@id\":\"cuds:0ef5b540-083c-4d88-82b0-f0ad6cb57a13\"}},{\"@id\":\"cuds:3fe5a253-5227-43a7-9124-348fe3db044b\",\"@type\":\"mods:DataPointItem\",\"mods:value\":\"0.1\",\"mods:name\":\"var4\",\"mods:isPartOf\":{\"@id\":\"cuds:ede09711-5318-4eba-93c3-be6443b1087b\"}},{\"@id\":\"cuds:f2b16624-ef7c-414d-9212-c772f151f130\",\"@type\":\"mods:Variable\",\"mods:maximum\":\"None\",\"mods:type\":\"output\",\"mods:objective\":\"None\",\"mods:name\":\"var6\",\"mods:minimum\":\"None\",\"mods:weight\":\"None\",\"mods:isPartOf\":{\"@id\":\"cuds:31fd7933-2e3e-4b00-a175-fe2ad47d46e5\"}},{\"@id\":\"cuds:777c5c44-2ca0-463d-a122-a1fcfcc6c3b8\",\"@type\":\"mods:DataPointItem\",\"mods:value\":\"1.2\",\"mods:name\":\"var5\",\"mods:isPartOf\":{\"@id\":\"cuds:ede09711-5318-4eba-93c3-be6443b1087b\"}},{\"@id\":\"cuds:5a2f3404-13b4-4d6c-83b5-e940f6b608ac\",\"@type\":\"mods:DataPointItem\",\"mods:name\":\"var2\",\"mods:value\":\"0.8\",\"mods:isPartOf\":{\"@id\":\"cuds:0ef5b540-083c-4d88-82b0-f0ad6cb57a13\"}},{\"@id\":\"cuds:fb6c40bb-2906-42e8-8e22-06520cd0ffd0\",\"@type\":\"mods:DataPoint\",\"mods:hasPart\":[{\"@id\":\"cuds:fe0e0f93-42a3-4c09-a94f-dddbf76bb5cc\"},{\"@id\":\"cuds:f3b16350-bd7f-432a-8d54-66490d51814e\"},{\"@id\":\"cuds:a3e74a16-e195-4a7e-9bf0-9ae398633083\"},{\"@id\":\"cuds:1b8a22bc-99d8-4905-89fc-fe2e89637f7f\"},{\"@id\":\"cuds:20f9b8df-173f-4cd4-afa8-5ec12a186d8e\"},{\"@id\":\"cuds:7204f761-786a-43f8-868b-ff638e57646d\"}],\"mods:isPartOf\":{\"@id\":\"cuds:d353811e-6c09-4dc2-b842-cf6bf1abe9bf\"}},{\"@id\":\"cuds:d353811e-6c09-4dc2-b842-cf6bf1abe9bf\",\"@type\":\"mods:InputData\",\"mods:hasPart\":[{\"@id\":\"cuds:ede09711-5318-4eba-93c3-be6443b1087b\"},{\"@id\":\"cuds:fb6c40bb-2906-42e8-8e22-06520cd0ffd0\"},{\"@id\":\"cuds:ae4ce53b-fe54-428e-b975-a7227af21381\"},{\"@id\":\"cuds:5d61a7de-8969-4655-9dce-c7f13d2f376f\"},{\"@id\":\"cuds:0ef5b540-083c-4d88-82b0-f0ad6cb57a13\"}],\"mods:isPartOf\":{\"@id\":\"cuds:0bf53dd4-df34-4a7a-83e7-1ddf19e32d90\"}},{\"@id\":\"cuds:0e146587-ec9d-4671-b52d-9fb37ac6cd7b\",\"@type\":\"mods:DataPointItem\",\"mods:name\":\"var1\",\"mods:value\":\"0.2\",\"mods:isPartOf\":{\"@id\":\"cuds:0ef5b540-083c-4d88-82b0-f0ad6cb57a13\"}},{\"@id\":\"cuds:8795f76e-9d15-4fcb-b4ca-7d1eef42e369\",\"@type\":\"mods:Variable\",\"mods:maximum\":\"None\",\"mods:minimum\":\"None\",\"mods:objective\":\"None\",\"mods:weight\":\"None\",\"mods:type\":\"input\",\"mods:name\":\"var1\",\"mods:isPartOf\":{\"@id\":\"cuds:31fd7933-2e3e-4b00-a175-fe2ad47d46e5\"}},{\"@id\":\"cuds:f3b16350-bd7f-432a-8d54-66490d51814e\",\"@type\":\"mods:DataPointItem\",\"mods:name\":\"var2\",\"mods:value\":\"0.9\",\"mods:isPartOf\":{\"@id\":\"cuds:fb6c40bb-2906-42e8-8e22-06520cd0ffd0\"}},{\"@id\":\"cuds:9022494c-04a9-415b-b21c-4ba9fe762835\",\"@type\":\"mods:DataPointItem\",\"mods:name\":\"var5\",\"mods:value\":\"1.0\",\"mods:isPartOf\":{\"@id\":\"cuds:ae4ce53b-fe54-428e-b975-a7227af21381\"}},{\"@id\":\"cuds:003d49c0-92e8-4b03-9970-1718f00d7027\",\"@type\":\"mods:DataPointItem\",\"mods:name\":\"var4\",\"mods:value\":\"0.1\",\"mods:isPartOf\":{\"@id\":\"cuds:0ef5b540-083c-4d88-82b0-f0ad6cb57a13\"}},{\"@id\":\"cuds:5e6185b5-4a0b-43c2-ac09-ff6ac55046cc\",\"@type\":\"mods:Variable\",\"mods:minimum\":\"2.5\",\"mods:weight\":\"0.7\",\"mods:objective\":\"Maximise\",\"mods:maximum\":\"None\",\"mods:type\":\"output\",\"mods:name\":\"var6\",\"mods:isPartOf\":{\"@id\":\"cuds:8d27d9a1-7ca0-4b99-8b47-c2a24be196ef\"}},{\"@id\":\"cuds:43d12ba1-bc8b-4455-a809-d380d0cfd99f\",\"@type\":\"mods:Variable\",\"mods:maximum\":\"1.5\",\"mods:weight\":\"0.1\",\"mods:type\":\"output\",\"mods:objective\":\"Minimise\",\"mods:minimum\":\"None\",\"mods:name\":\"var5\",\"mods:isPartOf\":{\"@id\":\"cuds:8d27d9a1-7ca0-4b99-8b47-c2a24be196ef\"}},{\"@id\":\"cuds:a3e74a16-e195-4a7e-9bf0-9ae398633083\",\"@type\":\"mods:DataPointItem\",\"mods:value\":\"0.1\",\"mods:name\":\"var3\",\"mods:isPartOf\":{\"@id\":\"cuds:fb6c40bb-2906-42e8-8e22-06520cd0ffd0\"}},{\"@id\":\"cuds:48406ba2-67e7-4e98-ad9c-eaa10d53b23c\",\"@type\":\"mods:DataPointItem\",\"mods:value\":\"0.0\",\"mods:name\":\"var2\",\"mods:isPartOf\":{\"@id\":\"cuds:ae4ce53b-fe54-428e-b975-a7227af21381\"}},{\"@id\":\"cuds:0ef5b540-083c-4d88-82b0-f0ad6cb57a13\",\"@type\":\"mods:DataPoint\",\"mods:hasPart\":[{\"@id\":\"cuds:0e146587-ec9d-4671-b52d-9fb37ac6cd7b\"},{\"@id\":\"cuds:5a2f3404-13b4-4d6c-83b5-e940f6b608ac\"},{\"@id\":\"cuds:b34b108b-853c-4945-b4ac-b27077c43420\"},{\"@id\":\"cuds:003d49c0-92e8-4b03-9970-1718f00d7027\"},{\"@id\":\"cuds:bc34f079-3f43-4fc5-a189-e5e71183d54d\"},{\"@id\":\"cuds:0b0c7fab-2ab8-482f-a6cc-c494ca6e2056\"}],\"mods:isPartOf\":{\"@id\":\"cuds:d353811e-6c09-4dc2-b842-cf6bf1abe9bf\"}},{\"@id\":\"cuds:fb1828b1-a934-404d-94b3-ed4256496e15\",\"@type\":\"mods:DataPointItem\",\"mods:name\":\"var2\",\"mods:value\":\"0.1\",\"mods:isPartOf\":{\"@id\":\"cuds:5d61a7de-8969-4655-9dce-c7f13d2f376f\"}},{\"@id\":\"cuds:fe0e0f93-42a3-4c09-a94f-dddbf76bb5cc\",\"@type\":\"mods:DataPointItem\",\"mods:value\":\"0.3\",\"mods:name\":\"var1\",\"mods:isPartOf\":{\"@id\":\"cuds:fb6c40bb-2906-42e8-8e22-06520cd0ffd0\"}},{\"@id\":\"cuds:556d38a0-c5e6-4f09-9177-fb5f5ed6e7c7\",\"@type\":\"mods:DataPointItem\",\"mods:name\":\"var1\",\"mods:value\":\"0.1\",\"mods:isPartOf\":{\"@id\":\"cuds:5d61a7de-8969-4655-9dce-c7f13d2f376f\"}},{\"@id\":\"cuds:e1e2e12d-5c70-4e05-9c42-5bdf7825a891\",\"@type\":\"mods:Variable\",\"mods:objective\":\"None\",\"mods:type\":\"input\",\"mods:name\":\"var2\",\"mods:weight\":\"None\",\"mods:minimum\":\"None\",\"mods:maximum\":\"None\",\"mods:isPartOf\":{\"@id\":\"cuds:8d27d9a1-7ca0-4b99-8b47-c2a24be196ef\"}},{\"@id\":\"cuds:043b7192-100f-4d6e-b537-ee2c8711b362\",\"@type\":\"mods:DataPointItem\",\"mods:value\":\"1.2\",\"mods:name\":\"var6\",\"mods:isPartOf\":{\"@id\":\"cuds:ae4ce53b-fe54-428e-b975-a7227af21381\"}},{\"@id\":\"cuds:5e9269f5-82d9-4a90-8fef-d22c2f473448\",\"@type\":\"mods:Variable\",\"mods:weight\":\"None\",\"mods:type\":\"input\",\"mods:maximum\":\"None\",\"mods:name\":\"var3\",\"mods:objective\":\"None\",\"mods:minimum\":\"None\",\"mods:isPartOf\":{\"@id\":\"cuds:31fd7933-2e3e-4b00-a175-fe2ad47d46e5\"}},{\"@id\":\"cuds:f5b78df8-c86f-4f0b-9445-f4d0dbe28633\",\"@type\":\"mods:Variable\",\"mods:minimum\":\"None\",\"mods:weight\":\"None\",\"mods:name\":\"var3\",\"mods:type\":\"input\",\"mods:maximum\":\"None\",\"mods:objective\":\"None\",\"mods:isPartOf\":{\"@id\":\"cuds:8d27d9a1-7ca0-4b99-8b47-c2a24be196ef\"}},{\"@id\":\"cuds:0bf53dd4-df34-4a7a-83e7-1ddf19e32d90\",\"@type\":\"mods:MultiObjectiveSimulation\",\"mods:hasPart\":[{\"@id\":\"cuds:31fd7933-2e3e-4b00-a175-fe2ad47d46e5\"},{\"@id\":\"cuds:8d27d9a1-7ca0-4b99-8b47-c2a24be196ef\"},{\"@id\":\"cuds:d353811e-6c09-4dc2-b842-cf6bf1abe9bf\"}]},{\"@id\":\"cuds:ae4ce53b-fe54-428e-b975-a7227af21381\",\"@type\":\"mods:DataPoint\",\"mods:hasPart\":[{\"@id\":\"cuds:38d0ab5a-09af-4a94-860b-66dee298f2ee\"},{\"@id\":\"cuds:48406ba2-67e7-4e98-ad9c-eaa10d53b23c\"},{\"@id\":\"cuds:cf0315d7-371e-4e5d-90e9-f879b4af06ad\"},{\"@id\":\"cuds:60748644-7bc6-4a9f-a818-6cd823ead953\"},{\"@id\":\"cuds:9022494c-04a9-415b-b21c-4ba9fe762835\"},{\"@id\":\"cuds:043b7192-100f-4d6e-b537-ee2c8711b362\"}],\"mods:isPartOf\":{\"@id\":\"cuds:d353811e-6c09-4dc2-b842-cf6bf1abe9bf\"}},{\"@id\":\"cuds:2fd46cdb-4669-4468-b25c-fbda54c817a0\",\"@type\":\"mods:DataPointItem\",\"mods:value\":\"0.5\",\"mods:name\":\"var3\",\"mods:isPartOf\":{\"@id\":\"cuds:ede09711-5318-4eba-93c3-be6443b1087b\"}},{\"@id\":\"cuds:9c2deaae-657b-40c4-acdb-02ac47ac4b1e\",\"@type\":\"mods:DataPointItem\",\"mods:name\":\"var2\",\"mods:value\":\"0.4\",\"mods:isPartOf\":{\"@id\":\"cuds:ede09711-5318-4eba-93c3-be6443b1087b\"}},{\"@id\":\"cuds:2dc3acfe-cfbb-4325-b04a-a0d0559db13b\",\"@type\":\"mods:Variable\",\"mods:weight\":\"None\",\"mods:minimum\":\"None\",\"mods:name\":\"var4\",\"mods:maximum\":\"None\",\"mods:type\":\"output\",\"mods:objective\":\"None\",\"mods:isPartOf\":{\"@id\":\"cuds:31fd7933-2e3e-4b00-a175-fe2ad47d46e5\"}},{\"@id\":\"cuds:3676313c-6997-411f-b7ea-d0de5572d08e\",\"@type\":\"mods:Variable\",\"mods:objective\":\"None\",\"mods:minimum\":\"None\",\"mods:type\":\"output\",\"mods:weight\":\"None\",\"mods:name\":\"var5\",\"mods:maximum\":\"None\",\"mods:isPartOf\":{\"@id\":\"cuds:31fd7933-2e3e-4b00-a175-fe2ad47d46e5\"}},{\"@id\":\"cuds:8d27d9a1-7ca0-4b99-8b47-c2a24be196ef\",\"@type\":\"mods:Algorithm\",\"mods:surrogateToLoad\":\"None\",\"mods:type\":\"MOO\",\"mods:name\":\"algorithm2\",\"mods:saveSurrogate\":false,\"mods:maxNumberOfResults\":\"10\",\"mods:hasPart\":[{\"@id\":\"cuds:4731885e-bcf5-497e-8a02-eb0dbd9c84f2\"},{\"@id\":\"cuds:e1e2e12d-5c70-4e05-9c42-5bdf7825a891\"},{\"@id\":\"cuds:f5b78df8-c86f-4f0b-9445-f4d0dbe28633\"},{\"@id\":\"cuds:88294493-194c-41d6-9032-5dfc5b0d3cdf\"},{\"@id\":\"cuds:43d12ba1-bc8b-4455-a809-d380d0cfd99f\"},{\"@id\":\"cuds:5e6185b5-4a0b-43c2-ac09-ff6ac55046cc\"}],\"mods:isPartOf\":{\"@id\":\"cuds:0bf53dd4-df34-4a7a-83e7-1ddf19e32d90\"}},{\"@id\":\"cuds:20f9b8df-173f-4cd4-afa8-5ec12a186d8e\",\"@type\":\"mods:DataPointItem\",\"mods:value\":\"2.0\",\"mods:name\":\"var5\",\"mods:isPartOf\":{\"@id\":\"cuds:fb6c40bb-2906-42e8-8e22-06520cd0ffd0\"}},{\"@id\":\"cuds:5325e9d2-5a98-487f-b08c-ee8a6466ae20\",\"@type\":\"mods:DataPointItem\",\"mods:name\":\"var6\",\"mods:value\":\"2.5\",\"mods:isPartOf\":{\"@id\":\"cuds:ede09711-5318-4eba-93c3-be6443b1087b\"}},{\"@id\":\"cuds:7080e857-0cf6-4a42-9659-2bcd3ec2c4dc\",\"@type\":\"mods:DataPointItem\",\"mods:name\":\"var5\",\"mods:value\":\"1.6\",\"mods:isPartOf\":{\"@id\":\"cuds:5d61a7de-8969-4655-9dce-c7f13d2f376f\"}},{\"@id\":\"cuds:b34b108b-853c-4945-b4ac-b27077c43420\",\"@type\":\"mods:DataPointItem\",\"mods:name\":\"var3\",\"mods:value\":\"0.5\",\"mods:isPartOf\":{\"@id\":\"cuds:0ef5b540-083c-4d88-82b0-f0ad6cb57a13\"}},{\"@id\":\"cuds:cf0315d7-371e-4e5d-90e9-f879b4af06ad\",\"@type\":\"mods:DataPointItem\",\"mods:value\":\"0.2\",\"mods:name\":\"var3\",\"mods:isPartOf\":{\"@id\":\"cuds:ae4ce53b-fe54-428e-b975-a7227af21381\"}},{\"@id\":\"cuds:50e0000c-ea37-446d-bf7e-0e2df219ba82\",\"@type\":\"mods:DataPointItem\",\"mods:value\":\"0.3\",\"mods:name\":\"var3\",\"mods:isPartOf\":{\"@id\":\"cuds:5d61a7de-8969-4655-9dce-c7f13d2f376f\"}},{\"@id\":\"cuds:60748644-7bc6-4a9f-a818-6cd823ead953\",\"@type\":\"mods:DataPointItem\",\"mods:value\":\"0.1\",\"mods:name\":\"var4\",\"mods:isPartOf\":{\"@id\":\"cuds:ae4ce53b-fe54-428e-b975-a7227af21381\"}},{\"@id\":\"cuds:7204f761-786a-43f8-868b-ff638e57646d\",\"@type\":\"mods:DataPointItem\",\"mods:name\":\"var6\",\"mods:value\":\"3.0\",\"mods:isPartOf\":{\"@id\":\"cuds:fb6c40bb-2906-42e8-8e22-06520cd0ffd0\"}},{\"@id\":\"cuds:1b8a22bc-99d8-4905-89fc-fe2e89637f7f\",\"@type\":\"mods:DataPointItem\",\"mods:value\":\"0.9\",\"mods:name\":\"var4\",\"mods:isPartOf\":{\"@id\":\"cuds:fb6c40bb-2906-42e8-8e22-06520cd0ffd0\"}},{\"@id\":\"cuds:38d0ab5a-09af-4a94-860b-66dee298f2ee\",\"@type\":\"mods:DataPointItem\",\"mods:value\":\"0.6\",\"mods:name\":\"var1\",\"mods:isPartOf\":{\"@id\":\"cuds:ae4ce53b-fe54-428e-b975-a7227af21381\"}},{\"@id\":\"cuds:6708c59a-6972-4ac7-96f5-b909459c728c\",\"@type\":\"mods:Variable\",\"mods:objective\":\"None\",\"mods:weight\":\"None\",\"mods:name\":\"var2\",\"mods:type\":\"input\",\"mods:maximum\":\"None\",\"mods:minimum\":\"None\",\"mods:isPartOf\":{\"@id\":\"cuds:31fd7933-2e3e-4b00-a175-fe2ad47d46e5\"}},{\"@id\":\"cuds:45afe88a-64be-458f-b00d-344bead3e8a0\",\"@type\":\"mods:DataPointItem\",\"mods:value\":\"0.1\",\"mods:name\":\"var1\",\"mods:isPartOf\":{\"@id\":\"cuds:ede09711-5318-4eba-93c3-be6443b1087b\"}},{\"@id\":\"cuds:31fd7933-2e3e-4b00-a175-fe2ad47d46e5\",\"@type\":\"mods:Algorithm\",\"mods:name\":\"algorithm1\",\"mods:type\":\"GenSurrogateAlg\",\"mods:surrogateToLoad\":\"None\",\"mods:saveSurrogate\":false,\"mods:maxNumberOfResults\":\"None\",\"mods:hasPart\":[{\"@id\":\"cuds:8795f76e-9d15-4fcb-b4ca-7d1eef42e369\"},{\"@id\":\"cuds:6708c59a-6972-4ac7-96f5-b909459c728c\"},{\"@id\":\"cuds:5e9269f5-82d9-4a90-8fef-d22c2f473448\"},{\"@id\":\"cuds:2dc3acfe-cfbb-4325-b04a-a0d0559db13b\"},{\"@id\":\"cuds:3676313c-6997-411f-b7ea-d0de5572d08e\"},{\"@id\":\"cuds:f2b16624-ef7c-414d-9212-c772f151f130\"}],\"mods:isPartOf\":{\"@id\":\"cuds:0bf53dd4-df34-4a7a-83e7-1ddf19e32d90\"}},{\"@id\":\"cuds:88294493-194c-41d6-9032-5dfc5b0d3cdf\",\"@type\":\"mods:Variable\",\"mods:minimum\":\"0.5\",\"mods:type\":\"output\",\"mods:objective\":\"Maximise\",\"mods:weight\":\"0.5\",\"mods:name\":\"var4\",\"mods:maximum\":\"None\",\"mods:isPartOf\":{\"@id\":\"cuds:8d27d9a1-7ca0-4b99-8b47-c2a24be196ef\"}},{\"@id\":\"cuds:ede09711-5318-4eba-93c3-be6443b1087b\",\"@type\":\"mods:DataPoint\",\"mods:hasPart\":[{\"@id\":\"cuds:45afe88a-64be-458f-b00d-344bead3e8a0\"},{\"@id\":\"cuds:9c2deaae-657b-40c4-acdb-02ac47ac4b1e\"},{\"@id\":\"cuds:2fd46cdb-4669-4468-b25c-fbda54c817a0\"},{\"@id\":\"cuds:3fe5a253-5227-43a7-9124-348fe3db044b\"},{\"@id\":\"cuds:777c5c44-2ca0-463d-a122-a1fcfcc6c3b8\"},{\"@id\":\"cuds:5325e9d2-5a98-487f-b08c-ee8a6466ae20\"}],\"mods:isPartOf\":{\"@id\":\"cuds:d353811e-6c09-4dc2-b842-cf6bf1abe9bf\"}},{\"@id\":\"cuds:abbde868-19b2-4d52-89cd-7ba38c27def6\",\"@type\":\"mods:DataPointItem\",\"mods:value\":\"2.1\",\"mods:name\":\"var6\",\"mods:isPartOf\":{\"@id\":\"cuds:5d61a7de-8969-4655-9dce-c7f13d2f376f\"}},{\"@id\":\"cuba:_serialization\",\"rdf:first\":\"0bf53dd4-df34-4a7a-83e7-1ddf19e32d90\"},{\"@id\":\"cuds:5d61a7de-8969-4655-9dce-c7f13d2f376f\",\"@type\":\"mods:DataPoint\",\"mods:hasPart\":[{\"@id\":\"cuds:556d38a0-c5e6-4f09-9177-fb5f5ed6e7c7\"},{\"@id\":\"cuds:fb1828b1-a934-404d-94b3-ed4256496e15\"},{\"@id\":\"cuds:50e0000c-ea37-446d-bf7e-0e2df219ba82\"},{\"@id\":\"cuds:6648a6bc-95c5-49a4-836e-35ab6fb31226\"},{\"@id\":\"cuds:7080e857-0cf6-4a42-9659-2bcd3ec2c4dc\"},{\"@id\":\"cuds:abbde868-19b2-4d52-89cd-7ba38c27def6\"}],\"mods:isPartOf\":{\"@id\":\"cuds:d353811e-6c09-4dc2-b842-cf6bf1abe9bf\"}},{\"@id\":\"cuds:6648a6bc-95c5-49a4-836e-35ab6fb31226\",\"@type\":\"mods:DataPointItem\",\"mods:value\":\"0.7\",\"mods:name\":\"var4\",\"mods:isPartOf\":{\"@id\":\"cuds:5d61a7de-8969-4655-9dce-c7f13d2f376f\"}},{\"@id\":\"cuds:0b0c7fab-2ab8-482f-a6cc-c494ca6e2056\",\"@type\":\"mods:DataPointItem\",\"mods:value\":\"4.0\",\"mods:name\":\"var6\",\"mods:isPartOf\":{\"@id\":\"cuds:0ef5b540-083c-4d88-82b0-f0ad6cb57a13\"}},{\"@id\":\"cuds:4731885e-bcf5-497e-8a02-eb0dbd9c84f2\",\"@type\":\"mods:Variable\",\"mods:weight\":\"None\",\"mods:minimum\":\"None\",\"mods:maximum\":\"None\",\"mods:objective\":\"None\",\"mods:type\":\"input\",\"mods:name\":\"var1\",\"mods:isPartOf\":{\"@id\":\"cuds:8d27d9a1-7ca0-4b99-8b47-c2a24be196ef\"}}],\"@context\":{\"brick\":\"https://brickschema.org/schema/Brick#\",\"csvw\":\"http://www.w3.org/ns/csvw#\",\"dc\":\"http://purl.org/dc/elements/1.1/\",\"dcat\":\"http://www.w3.org/ns/dcat#\",\"dcmitype\":\"http://purl.org/dc/dcmitype/\",\"dcterms\":\"http://purl.org/dc/terms/\",\"dcam\":\"http://purl.org/dc/dcam/\",\"doap\":\"http://usefulinc.com/ns/doap#\",\"foaf\":\"http://xmlns.com/foaf/0.1/\",\"geo\":\"http://www.opengis.net/ont/geosparql#\",\"odrl\":\"http://www.w3.org/ns/odrl/2/\",\"org\":\"http://www.w3.org/ns/org#\",\"prof\":\"http://www.w3.org/ns/dx/prof/\",\"prov\":\"http://www.w3.org/ns/prov#\",\"qb\":\"http://purl.org/linked-data/cube#\",\"schema\":\"https://schema.org/\",\"sh\":\"http://www.w3.org/ns/shacl#\",\"skos\":\"http://www.w3.org/2004/02/skos/core#\",\"sosa\":\"http://www.w3.org/ns/sosa/\",\"ssn\":\"http://www.w3.org/ns/ssn/\",\"time\":\"http://www.w3.org/2006/time#\",\"vann\":\"http://purl.org/vocab/vann/\",\"void\":\"http://rdfs.org/ns/void#\",\"wgs\":\"https://www.w3.org/2003/01/geo/wgs84_pos#\",\"owl\":\"http://www.w3.org/2002/07/owl#\",\"rdf\":\"http://www.w3.org/1999/02/22-rdf-syntax-ns#\",\"rdfs\":\"http://www.w3.org/2000/01/rdf-schema#\",\"xsd\":\"http://www.w3.org/2001/XMLSchema#\",\"cuba\":\"http://www.osp-core.com/cuba#\",\"amiiiparam\":\"http://www.osp-core.com/amiiiparam#\",\"amiii\":\"http://www.osp-core.com/amiii#\",\"mods\":\"http://www.osp-core.com/mods#\",\"cuds\":\"http://www.osp-core.com/cuds#\"}},\"id\":\"4d65486e-224f-469f-82a8-1800f41a05eb\",\"key\":\"b7f6879e634da947a63901a42e6cfe76\"}'"
      ]
     },
     "execution_count": 11,
     "metadata": {},
     "output_type": "execute_result"
    }
   ],
   "source": [
    "pipeline = source >> transformation\n",
    "pipeline.get()"
   ]
  },
  {
   "cell_type": "code",
   "execution_count": null,
   "metadata": {
    "vscode": {
     "languageId": "python"
    }
   },
   "outputs": [],
   "source": []
  }
 ],
 "metadata": {
  "kernelspec": {
   "display_name": "Python 3 (ipykernel)",
   "language": "python",
   "name": "python3"
  },
  "language_info": {
   "codemirror_mode": {
    "name": "ipython",
    "version": 3
   },
   "file_extension": ".py",
   "mimetype": "text/x-python",
   "name": "python",
   "nbconvert_exporter": "python",
   "pygments_lexer": "ipython3",
   "version": "3.10.10"
  },
  "vscode": {
   "interpreter": {
    "hash": "e4cce46d6be9934fbd27f9ca0432556941ea5bdf741d4f4d64c6cd7f8dfa8fba"
   }
  }
 },
 "nbformat": 4,
 "nbformat_minor": 4
}
